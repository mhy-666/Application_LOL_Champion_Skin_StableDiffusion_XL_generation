{
 "cells": [
  {
   "cell_type": "code",
   "execution_count": 5,
   "metadata": {},
   "outputs": [],
   "source": [
    "import requests\n",
    "from bs4 import BeautifulSoup\n"
   ]
  },
  {
   "cell_type": "code",
   "execution_count": 55,
   "metadata": {},
   "outputs": [],
   "source": [
    "def get_champion_urls():    \n",
    "    champion = []\n",
    "    with open('../data/raw/champion.txt','r') as f:\n",
    "        for line in f:\n",
    "            cleaned_line = ''.join(e for e in line.strip() if e.isalnum())\n",
    "            champion.append(cleaned_line.lower())\n",
    "    champion_urls = []\n",
    "    for c in champion:\n",
    "        champion_urls.append('https://www.skinexplorer.lol/champions/'+c)\n",
    "    return champion_urls"
   ]
  },
  {
   "cell_type": "code",
   "execution_count": 57,
   "metadata": {},
   "outputs": [
    {
     "name": "stdout",
     "output_type": "stream",
     "text": [
      "167\n"
     ]
    }
   ],
   "source": [
    "champion_urls = get_champion_urls()\n",
    "print(len(champion_urls))"
   ]
  },
  {
   "cell_type": "code",
   "execution_count": 66,
   "metadata": {},
   "outputs": [
    {
     "name": "stdout",
     "output_type": "stream",
     "text": [
      "['https://www.skinexplorer.lol/champions/aatrox', 'https://www.skinexplorer.lol/champions/ahri', 'https://www.skinexplorer.lol/champions/akali', 'https://www.skinexplorer.lol/champions/akshan', 'https://www.skinexplorer.lol/champions/alistar', 'https://www.skinexplorer.lol/champions/amumu', 'https://www.skinexplorer.lol/champions/anivia', 'https://www.skinexplorer.lol/champions/annie', 'https://www.skinexplorer.lol/champions/aphelios', 'https://www.skinexplorer.lol/champions/ashe', 'https://www.skinexplorer.lol/champions/aurelionsol', 'https://www.skinexplorer.lol/champions/azir', 'https://www.skinexplorer.lol/champions/bard', 'https://www.skinexplorer.lol/champions/blitzcrank', 'https://www.skinexplorer.lol/champions/brand', 'https://www.skinexplorer.lol/champions/braum', 'https://www.skinexplorer.lol/champions/caitlyn', 'https://www.skinexplorer.lol/champions/camille', 'https://www.skinexplorer.lol/champions/cassiopeia', 'https://www.skinexplorer.lol/champions/chogath', 'https://www.skinexplorer.lol/champions/corki', 'https://www.skinexplorer.lol/champions/darius', 'https://www.skinexplorer.lol/champions/diana', 'https://www.skinexplorer.lol/champions/drmundo', 'https://www.skinexplorer.lol/champions/draven', 'https://www.skinexplorer.lol/champions/ekko', 'https://www.skinexplorer.lol/champions/elise', 'https://www.skinexplorer.lol/champions/evelynn', 'https://www.skinexplorer.lol/champions/ezreal', 'https://www.skinexplorer.lol/champions/fiddlesticks', 'https://www.skinexplorer.lol/champions/fiora', 'https://www.skinexplorer.lol/champions/fizz', 'https://www.skinexplorer.lol/champions/galio', 'https://www.skinexplorer.lol/champions/gangplank', 'https://www.skinexplorer.lol/champions/garen', 'https://www.skinexplorer.lol/champions/gnar', 'https://www.skinexplorer.lol/champions/gragas', 'https://www.skinexplorer.lol/champions/graves', 'https://www.skinexplorer.lol/champions/gwen', 'https://www.skinexplorer.lol/champions/hecarim', 'https://www.skinexplorer.lol/champions/heimerdinger', 'https://www.skinexplorer.lol/champions/illaoi', 'https://www.skinexplorer.lol/champions/irelia', 'https://www.skinexplorer.lol/champions/ivern', 'https://www.skinexplorer.lol/champions/janna', 'https://www.skinexplorer.lol/champions/jarvaniv', 'https://www.skinexplorer.lol/champions/jax', 'https://www.skinexplorer.lol/champions/jayce', 'https://www.skinexplorer.lol/champions/jhin', 'https://www.skinexplorer.lol/champions/jinx', 'https://www.skinexplorer.lol/champions/kaisa', 'https://www.skinexplorer.lol/champions/kalista', 'https://www.skinexplorer.lol/champions/karma', 'https://www.skinexplorer.lol/champions/karthus', 'https://www.skinexplorer.lol/champions/kassadin', 'https://www.skinexplorer.lol/champions/katarina', 'https://www.skinexplorer.lol/champions/kayle', 'https://www.skinexplorer.lol/champions/kayn', 'https://www.skinexplorer.lol/champions/kennen', 'https://www.skinexplorer.lol/champions/khazix', 'https://www.skinexplorer.lol/champions/kindred', 'https://www.skinexplorer.lol/champions/kled', 'https://www.skinexplorer.lol/champions/kogmaw', 'https://www.skinexplorer.lol/champions/leblanc', 'https://www.skinexplorer.lol/champions/leesin', 'https://www.skinexplorer.lol/champions/leona', 'https://www.skinexplorer.lol/champions/lillia', 'https://www.skinexplorer.lol/champions/lissandra', 'https://www.skinexplorer.lol/champions/lucian', 'https://www.skinexplorer.lol/champions/lulu', 'https://www.skinexplorer.lol/champions/lux', 'https://www.skinexplorer.lol/champions/malphite', 'https://www.skinexplorer.lol/champions/malzahar', 'https://www.skinexplorer.lol/champions/maokai', 'https://www.skinexplorer.lol/champions/masteryi', 'https://www.skinexplorer.lol/champions/missfortune', 'https://www.skinexplorer.lol/champions/mordekaiser', 'https://www.skinexplorer.lol/champions/morgana', 'https://www.skinexplorer.lol/champions/nami', 'https://www.skinexplorer.lol/champions/nasus', 'https://www.skinexplorer.lol/champions/nautilus', 'https://www.skinexplorer.lol/champions/neeko', 'https://www.skinexplorer.lol/champions/nidalee', 'https://www.skinexplorer.lol/champions/nocturne', 'https://www.skinexplorer.lol/champions/nunu', 'https://www.skinexplorer.lol/champions/olaf', 'https://www.skinexplorer.lol/champions/orianna', 'https://www.skinexplorer.lol/champions/ornn', 'https://www.skinexplorer.lol/champions/pantheon', 'https://www.skinexplorer.lol/champions/poppy', 'https://www.skinexplorer.lol/champions/pyke', 'https://www.skinexplorer.lol/champions/qiyana', 'https://www.skinexplorer.lol/champions/quinn', 'https://www.skinexplorer.lol/champions/rakan', 'https://www.skinexplorer.lol/champions/rammus', 'https://www.skinexplorer.lol/champions/reksai', 'https://www.skinexplorer.lol/champions/rell', 'https://www.skinexplorer.lol/champions/renataglasc', 'https://www.skinexplorer.lol/champions/renekton', 'https://www.skinexplorer.lol/champions/rengar', 'https://www.skinexplorer.lol/champions/riven', 'https://www.skinexplorer.lol/champions/rumble', 'https://www.skinexplorer.lol/champions/ryze', 'https://www.skinexplorer.lol/champions/samira', 'https://www.skinexplorer.lol/champions/sejuani', 'https://www.skinexplorer.lol/champions/senna', 'https://www.skinexplorer.lol/champions/seraphine', 'https://www.skinexplorer.lol/champions/sett', 'https://www.skinexplorer.lol/champions/shaco', 'https://www.skinexplorer.lol/champions/shen', 'https://www.skinexplorer.lol/champions/shyvana', 'https://www.skinexplorer.lol/champions/singed', 'https://www.skinexplorer.lol/champions/sion', 'https://www.skinexplorer.lol/champions/sivir', 'https://www.skinexplorer.lol/champions/skarner', 'https://www.skinexplorer.lol/champions/sona', 'https://www.skinexplorer.lol/champions/soraka', 'https://www.skinexplorer.lol/champions/swain', 'https://www.skinexplorer.lol/champions/sylas', 'https://www.skinexplorer.lol/champions/syndra', 'https://www.skinexplorer.lol/champions/tahmkench', 'https://www.skinexplorer.lol/champions/taliyah', 'https://www.skinexplorer.lol/champions/talon', 'https://www.skinexplorer.lol/champions/taric', 'https://www.skinexplorer.lol/champions/teemo', 'https://www.skinexplorer.lol/champions/thresh', 'https://www.skinexplorer.lol/champions/tristana', 'https://www.skinexplorer.lol/champions/trundle', 'https://www.skinexplorer.lol/champions/tryndamere', 'https://www.skinexplorer.lol/champions/twistedfate', 'https://www.skinexplorer.lol/champions/twitch', 'https://www.skinexplorer.lol/champions/udyr', 'https://www.skinexplorer.lol/champions/urgot', 'https://www.skinexplorer.lol/champions/varus', 'https://www.skinexplorer.lol/champions/vayne', 'https://www.skinexplorer.lol/champions/veigar', 'https://www.skinexplorer.lol/champions/velkoz', 'https://www.skinexplorer.lol/champions/vex', 'https://www.skinexplorer.lol/champions/vi', 'https://www.skinexplorer.lol/champions/viego', 'https://www.skinexplorer.lol/champions/viktor', 'https://www.skinexplorer.lol/champions/vladimir', 'https://www.skinexplorer.lol/champions/volibear', 'https://www.skinexplorer.lol/champions/warwick', 'https://www.skinexplorer.lol/champions/wukong', 'https://www.skinexplorer.lol/champions/xayah', 'https://www.skinexplorer.lol/champions/xerath', 'https://www.skinexplorer.lol/champions/xinzhao', 'https://www.skinexplorer.lol/champions/yasuo', 'https://www.skinexplorer.lol/champions/yone', 'https://www.skinexplorer.lol/champions/yorick', 'https://www.skinexplorer.lol/champions/yuumi', 'https://www.skinexplorer.lol/champions/zac', 'https://www.skinexplorer.lol/champions/zed', 'https://www.skinexplorer.lol/champions/zeri', 'https://www.skinexplorer.lol/champions/ziggs', 'https://www.skinexplorer.lol/champions/zilean', 'https://www.skinexplorer.lol/champions/zoe', 'https://www.skinexplorer.lol/champions/zyra', 'https://www.skinexplorer.lol/champions/belveth', 'https://www.skinexplorer.lol/champions/nilah', 'https://www.skinexplorer.lol/champions/ksante', 'https://www.skinexplorer.lol/champions/milio', 'https://www.skinexplorer.lol/champions/naafiri', 'https://www.skinexplorer.lol/champions/briar', 'https://www.skinexplorer.lol/champions/hwei', 'https://www.skinexplorer.lol/champions/smolder']\n"
     ]
    }
   ],
   "source": [
    "# champion_urls.index('renataglasc')\n",
    "print(champion_urls)"
   ]
  },
  {
   "cell_type": "code",
   "execution_count": null,
   "metadata": {},
   "outputs": [],
   "source": [
    "def get_image_url(page_url):\n",
    "    response = requests.get(page_url)\n",
    "    soup = BeautifulSoup(response.text, 'html.parser')\n",
    "    \n",
    "    # 假设下载按钮的链接可以直接从页面中获取\n",
    "    # 'download_button_class'是下载按钮的HTML类名\n",
    "    download_link = soup.find('main', style=\"transform:translateX(0)\").find('img')['src']\n",
    "    return download_link"
   ]
  },
  {
   "cell_type": "code",
   "execution_count": null,
   "metadata": {},
   "outputs": [],
   "source": [
    "def download_image(image_url, save_path):\n",
    "    response = requests.get(image_url)\n",
    "    with open(save_path, 'wb') as file:\n",
    "        file.write(response.content)"
   ]
  },
  {
   "cell_type": "code",
   "execution_count": 61,
   "metadata": {},
   "outputs": [],
   "source": [
    "def get_thumbnail_links(champion_urls):\n",
    "    for url in champion_urls:\n",
    "        # Send HTTP request\n",
    "        \n",
    "        response = requests.get(url)\n",
    "        webpage = response.text\n",
    "        champion_name = url.split('/')[-1]\n",
    "        print(champion_name)\n",
    "        # Parse the webpage\n",
    "        soup = BeautifulSoup(webpage, 'html.parser')\n",
    "        # Find the thumbnail links\n",
    "        # Note: 'thumbnail_class' should be replaced with the actual HTML class name of the thumbnail links\n",
    "        thumbnails = soup.find_all('div', class_=\"styles_grid__4dc4K\")\n",
    "        thumbnails = thumbnails[0].find_all('a')\n",
    "        # Get the thumbnail page links\n",
    "        thumbnail_urls = []\n",
    "        thumbnail_urls = ['https://www.skinexplorer.lol'+thumb['href'] for thumb in thumbnails]\n",
    "        \n",
    "        full_image_urls = [get_image_url(url) for url in thumbnail_urls]\n",
    "        # Download the images\n",
    "        for i, img_url in enumerate(full_image_urls):\n",
    "            download_image(img_url, f'../data/raw/images/{champion_name}_{i}.jpg')            \n",
    "            \n"
   ]
  },
  {
   "cell_type": "code",
   "execution_count": 62,
   "metadata": {},
   "outputs": [
    {
     "name": "stdout",
     "output_type": "stream",
     "text": [
      "aatrox\n",
      "ahri\n",
      "akali\n",
      "akshan\n",
      "alistar\n",
      "amumu\n",
      "anivia\n",
      "annie\n",
      "aphelios\n",
      "ashe\n",
      "aurelionsol\n",
      "azir\n",
      "bard\n",
      "blitzcrank\n",
      "brand\n",
      "braum\n",
      "caitlyn\n",
      "camille\n",
      "cassiopeia\n",
      "chogath\n",
      "corki\n",
      "darius\n",
      "diana\n",
      "drmundo\n",
      "draven\n",
      "ekko\n",
      "elise\n",
      "evelynn\n",
      "ezreal\n",
      "fiddlesticks\n",
      "fiora\n",
      "fizz\n",
      "galio\n",
      "gangplank\n",
      "garen\n",
      "gnar\n",
      "gragas\n",
      "graves\n",
      "gwen\n",
      "hecarim\n",
      "heimerdinger\n",
      "illaoi\n",
      "irelia\n",
      "ivern\n",
      "janna\n",
      "jarvaniv\n",
      "jax\n",
      "jayce\n",
      "jhin\n",
      "jinx\n",
      "kaisa\n",
      "kalista\n",
      "karma\n",
      "karthus\n",
      "kassadin\n",
      "katarina\n",
      "kayle\n",
      "kayn\n",
      "kennen\n",
      "khazix\n",
      "kindred\n",
      "kled\n",
      "kogmaw\n",
      "leblanc\n",
      "leesin\n",
      "leona\n",
      "lillia\n",
      "lissandra\n",
      "lucian\n",
      "lulu\n",
      "lux\n",
      "malphite\n",
      "malzahar\n",
      "maokai\n",
      "masteryi\n",
      "missfortune\n",
      "mordekaiser\n",
      "morgana\n",
      "nami\n",
      "nasus\n",
      "nautilus\n",
      "neeko\n",
      "nidalee\n",
      "nocturne\n",
      "nunu\n",
      "olaf\n",
      "orianna\n",
      "ornn\n",
      "pantheon\n",
      "poppy\n",
      "pyke\n",
      "qiyana\n",
      "quinn\n",
      "rakan\n",
      "rammus\n",
      "reksai\n",
      "rell\n",
      "renataglasc\n"
     ]
    },
    {
     "ename": "IndexError",
     "evalue": "list index out of range",
     "output_type": "error",
     "traceback": [
      "\u001b[0;31m---------------------------------------------------------------------------\u001b[0m",
      "\u001b[0;31mIndexError\u001b[0m                                Traceback (most recent call last)",
      "Cell \u001b[0;32mIn[62], line 1\u001b[0m\n\u001b[0;32m----> 1\u001b[0m \u001b[43mget_thumbnail_links\u001b[49m\u001b[43m(\u001b[49m\u001b[43mchampion_urls\u001b[49m\u001b[43m)\u001b[49m\n",
      "Cell \u001b[0;32mIn[61], line 14\u001b[0m, in \u001b[0;36mget_thumbnail_links\u001b[0;34m(champion_urls)\u001b[0m\n\u001b[1;32m     11\u001b[0m \u001b[38;5;66;03m# Find the thumbnail links\u001b[39;00m\n\u001b[1;32m     12\u001b[0m \u001b[38;5;66;03m# Note: 'thumbnail_class' should be replaced with the actual HTML class name of the thumbnail links\u001b[39;00m\n\u001b[1;32m     13\u001b[0m thumbnails \u001b[38;5;241m=\u001b[39m soup\u001b[38;5;241m.\u001b[39mfind_all(\u001b[38;5;124m'\u001b[39m\u001b[38;5;124mdiv\u001b[39m\u001b[38;5;124m'\u001b[39m, class_\u001b[38;5;241m=\u001b[39m\u001b[38;5;124m\"\u001b[39m\u001b[38;5;124mstyles_grid__4dc4K\u001b[39m\u001b[38;5;124m\"\u001b[39m)\n\u001b[0;32m---> 14\u001b[0m thumbnails \u001b[38;5;241m=\u001b[39m \u001b[43mthumbnails\u001b[49m\u001b[43m[\u001b[49m\u001b[38;5;241;43m0\u001b[39;49m\u001b[43m]\u001b[49m\u001b[38;5;241m.\u001b[39mfind_all(\u001b[38;5;124m'\u001b[39m\u001b[38;5;124ma\u001b[39m\u001b[38;5;124m'\u001b[39m)\n\u001b[1;32m     15\u001b[0m \u001b[38;5;66;03m# Get the thumbnail page links\u001b[39;00m\n\u001b[1;32m     16\u001b[0m thumbnail_urls \u001b[38;5;241m=\u001b[39m []\n",
      "\u001b[0;31mIndexError\u001b[0m: list index out of range"
     ]
    }
   ],
   "source": [
    "get_thumbnail_links(champion_urls)"
   ]
  },
  {
   "cell_type": "code",
   "execution_count": null,
   "metadata": {},
   "outputs": [],
   "source": []
  }
 ],
 "metadata": {
  "kernelspec": {
   "display_name": "Python 3",
   "language": "python",
   "name": "python3"
  },
  "language_info": {
   "codemirror_mode": {
    "name": "ipython",
    "version": 3
   },
   "file_extension": ".py",
   "mimetype": "text/x-python",
   "name": "python",
   "nbconvert_exporter": "python",
   "pygments_lexer": "ipython3",
   "version": "3.10.13"
  }
 },
 "nbformat": 4,
 "nbformat_minor": 2
}
